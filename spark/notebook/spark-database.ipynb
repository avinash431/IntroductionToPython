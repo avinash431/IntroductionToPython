{
 "cells": [
  {
   "cell_type": "code",
   "execution_count": 30,
   "id": "290163e2",
   "metadata": {},
   "outputs": [],
   "source": [
    "import findspark\n",
    "findspark.init()\n",
    "import pyspark\n",
    "from pyspark.sql import SparkSession"
   ]
  },
  {
   "cell_type": "code",
   "execution_count": 38,
   "id": "1b7fad54",
   "metadata": {},
   "outputs": [],
   "source": [
    "spark = SparkSession\\\n",
    "   .builder.enableHiveSupport().getOrCreate()"
   ]
  },
  {
   "cell_type": "code",
   "execution_count": 39,
   "id": "cef199e8",
   "metadata": {},
   "outputs": [
    {
     "data": {
      "text/plain": [
       "[Database(name='default', description='Default Hive database', locationUri='file:/Users/avinashs/PycharmProjects/introtoPython/spark/notebook/spark-warehouse'),\n",
       " Database(name='spark', description='', locationUri='file:/Users/avinashs/PycharmProjects/introtoPython/spark/notebook/spark-warehouse/spark.db')]"
      ]
     },
     "execution_count": 39,
     "metadata": {},
     "output_type": "execute_result"
    }
   ],
   "source": [
    "spark.catalog.listDatabases()"
   ]
  },
  {
   "cell_type": "code",
   "execution_count": null,
   "id": "9bb158fb",
   "metadata": {},
   "outputs": [],
   "source": [
    "spark.sql(\"\"\"\n",
    "CREATE DATABASE spark\n",
    "\"\"\").show()"
   ]
  },
  {
   "cell_type": "code",
   "execution_count": null,
   "id": "70b5a985",
   "metadata": {},
   "outputs": [],
   "source": [
    "spark.catalog.listDatabases()"
   ]
  },
  {
   "cell_type": "code",
   "execution_count": 40,
   "id": "3e7b359e",
   "metadata": {},
   "outputs": [
    {
     "name": "stdout",
     "output_type": "stream",
     "text": [
      "++\n",
      "||\n",
      "++\n",
      "++\n",
      "\n"
     ]
    }
   ],
   "source": [
    "spark.sql(\"\"\"\n",
    "use spark\n",
    "\"\"\").show()"
   ]
  },
  {
   "cell_type": "code",
   "execution_count": null,
   "id": "ba8a7bcc",
   "metadata": {},
   "outputs": [],
   "source": [
    "spark.sql(\"\"\"\n",
    "CREATE TABLE EMPLOYEE(id INT, name VARCHAR(20))\n",
    "\"\"\").show()"
   ]
  },
  {
   "cell_type": "code",
   "execution_count": null,
   "id": "b419bcbf",
   "metadata": {},
   "outputs": [],
   "source": [
    "spark.catalog.listTables()"
   ]
  },
  {
   "cell_type": "code",
   "execution_count": 51,
   "id": "ac3d76d7",
   "metadata": {},
   "outputs": [],
   "source": [
    "df = spark.createDataFrame(\n",
    "    [\n",
    "        (1, \"Peter Pan\", \"1999-04-23\", 90, 3),\n",
    "        (2, \"Alice Smith\", \"2000-05-15\", 100, 2),\n",
    "        (3, \"Bob Miller\", \"2000-09-01\", 80, 3),\n",
    "        (4, \"April May\", \"1999-09-30\", 110, 1),\n",
    "        (5, \"Billie Jean\", \"1990-07-12\", 360, None)\n",
    "    ],\n",
    "    [\"leftid\", \"name\", \"date-of-birth\", \"creditscore\", \"universityid\"]\n",
    ")"
   ]
  },
  {
   "cell_type": "code",
   "execution_count": 52,
   "id": "602a937b",
   "metadata": {},
   "outputs": [],
   "source": [
    "df = df.coalesce(1)"
   ]
  },
  {
   "cell_type": "code",
   "execution_count": 53,
   "id": "3a7e993b",
   "metadata": {},
   "outputs": [
    {
     "data": {
      "text/plain": [
       "1"
      ]
     },
     "execution_count": 53,
     "metadata": {},
     "output_type": "execute_result"
    }
   ],
   "source": [
    "df.rdd.getNumPartitions()"
   ]
  },
  {
   "cell_type": "code",
   "execution_count": 54,
   "id": "7380556a",
   "metadata": {},
   "outputs": [],
   "source": [
    "df.write.bucketBy(3,\"leftid\").saveAsTable(\"students\")"
   ]
  },
  {
   "cell_type": "code",
   "execution_count": 55,
   "id": "2f58ce54",
   "metadata": {},
   "outputs": [
    {
     "data": {
      "text/plain": [
       "[Table(name='employee', database='spark', description=None, tableType='MANAGED', isTemporary=False),\n",
       " Table(name='students', database='spark', description=None, tableType='MANAGED', isTemporary=False)]"
      ]
     },
     "execution_count": 55,
     "metadata": {},
     "output_type": "execute_result"
    }
   ],
   "source": [
    "spark.catalog.listTables()"
   ]
  },
  {
   "cell_type": "code",
   "execution_count": null,
   "id": "385efcf8",
   "metadata": {},
   "outputs": [],
   "source": [
    "spark.sql(\"\"\"\n",
    "select * from students\n",
    "\"\"\").show()"
   ]
  },
  {
   "cell_type": "code",
   "execution_count": 49,
   "id": "1f692538",
   "metadata": {},
   "outputs": [
    {
     "name": "stdout",
     "output_type": "stream",
     "text": [
      "++\n",
      "||\n",
      "++\n",
      "++\n",
      "\n"
     ]
    }
   ],
   "source": [
    "spark.sql(\"\"\"\n",
    "DROP TABLE students\n",
    "\"\"\").show()"
   ]
  },
  {
   "cell_type": "code",
   "execution_count": 50,
   "id": "f1a726cc",
   "metadata": {},
   "outputs": [
    {
     "data": {
      "text/plain": [
       "[Table(name='employee', database='spark', description=None, tableType='MANAGED', isTemporary=False)]"
      ]
     },
     "execution_count": 50,
     "metadata": {},
     "output_type": "execute_result"
    }
   ],
   "source": [
    "spark.catalog.listTables()"
   ]
  },
  {
   "cell_type": "code",
   "execution_count": null,
   "id": "bee1c8f2",
   "metadata": {},
   "outputs": [],
   "source": [
    "spark.catalog.createExternalTable(\"students\", path=\"/Users/avinashs/Downloads/output\")"
   ]
  },
  {
   "cell_type": "code",
   "execution_count": null,
   "id": "4a20afc6",
   "metadata": {},
   "outputs": [],
   "source": [
    "spark.catalog.listTables()"
   ]
  },
  {
   "cell_type": "code",
   "execution_count": 29,
   "id": "82fc39bd",
   "metadata": {},
   "outputs": [],
   "source": [
    "spark.stop()"
   ]
  }
 ],
 "metadata": {
  "kernelspec": {
   "display_name": "Python 3 (ipykernel)",
   "language": "python",
   "name": "python3"
  },
  "language_info": {
   "codemirror_mode": {
    "name": "ipython",
    "version": 3
   },
   "file_extension": ".py",
   "mimetype": "text/x-python",
   "name": "python",
   "nbconvert_exporter": "python",
   "pygments_lexer": "ipython3",
   "version": "3.9.7"
  }
 },
 "nbformat": 4,
 "nbformat_minor": 5
}
