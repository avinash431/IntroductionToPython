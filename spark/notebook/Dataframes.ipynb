{
 "cells": [
  {
   "cell_type": "code",
   "execution_count": null,
   "id": "100b6ad8",
   "metadata": {
    "scrolled": true
   },
   "outputs": [],
   "source": [
    "import findspark"
   ]
  },
  {
   "cell_type": "code",
   "execution_count": null,
   "id": "d1e9190b",
   "metadata": {
    "scrolled": true
   },
   "outputs": [],
   "source": [
    "findspark.init()"
   ]
  },
  {
   "cell_type": "code",
   "execution_count": null,
   "id": "b023b0d7",
   "metadata": {
    "scrolled": true
   },
   "outputs": [],
   "source": [
    "findspark.find()"
   ]
  },
  {
   "cell_type": "code",
   "execution_count": null,
   "id": "5cf1d3e3",
   "metadata": {
    "scrolled": true
   },
   "outputs": [],
   "source": [
    "from pyspark.sql import SparkSession"
   ]
  },
  {
   "cell_type": "code",
   "execution_count": null,
   "id": "c67a5ef7",
   "metadata": {
    "scrolled": true
   },
   "outputs": [],
   "source": [
    "spark = SparkSession.builder.getOrCreate()"
   ]
  },
  {
   "cell_type": "markdown",
   "id": "3bacef08",
   "metadata": {},
   "source": [
    "### Create spark dataframe from rdd"
   ]
  },
  {
   "cell_type": "code",
   "execution_count": null,
   "id": "edec0fbf",
   "metadata": {
    "scrolled": true
   },
   "outputs": [],
   "source": [
    "df = spark.createDataFrame([[1,2,3,4,5],[6,7,8,9,10]])"
   ]
  },
  {
   "cell_type": "code",
   "execution_count": null,
   "id": "0fca66cb",
   "metadata": {
    "scrolled": true
   },
   "outputs": [],
   "source": [
    "df.show()"
   ]
  },
  {
   "cell_type": "code",
   "execution_count": null,
   "id": "084efabb",
   "metadata": {
    "scrolled": true
   },
   "outputs": [],
   "source": [
    "df.collect()"
   ]
  },
  {
   "cell_type": "code",
   "execution_count": null,
   "id": "16f01fb3",
   "metadata": {
    "scrolled": true
   },
   "outputs": [],
   "source": [
    "rdd = spark.sparkContext.parallelize([(1, \"python\"), (2, \"java\"), (3, \"c++\")])"
   ]
  },
  {
   "cell_type": "code",
   "execution_count": null,
   "id": "224d7bf0",
   "metadata": {
    "scrolled": true
   },
   "outputs": [],
   "source": [
    "rdd.collect()"
   ]
  },
  {
   "cell_type": "code",
   "execution_count": null,
   "id": "9137c17b",
   "metadata": {
    "scrolled": true
   },
   "outputs": [],
   "source": [
    "df1 = rdd.toDF()"
   ]
  },
  {
   "cell_type": "code",
   "execution_count": null,
   "id": "7ceadf87",
   "metadata": {
    "scrolled": true
   },
   "outputs": [],
   "source": [
    "df1.show()"
   ]
  },
  {
   "cell_type": "markdown",
   "id": "74bb7eda",
   "metadata": {},
   "source": [
    "### Read json file as spark dataframe"
   ]
  },
  {
   "cell_type": "code",
   "execution_count": null,
   "id": "9b497c03",
   "metadata": {
    "scrolled": true
   },
   "outputs": [],
   "source": [
    "people_df = spark.read.json(\"/Users/avinashs/PycharmProjects/introtoPython/spark/datasets/people.json\")"
   ]
  },
  {
   "cell_type": "code",
   "execution_count": null,
   "id": "f6700008",
   "metadata": {
    "scrolled": true
   },
   "outputs": [],
   "source": [
    "people_df.show()"
   ]
  },
  {
   "cell_type": "markdown",
   "id": "c163d0a8",
   "metadata": {},
   "source": [
    "### Read csv file as spark dataframe"
   ]
  },
  {
   "cell_type": "code",
   "execution_count": null,
   "id": "1dce14c9",
   "metadata": {
    "scrolled": true
   },
   "outputs": [],
   "source": [
    "baby_names_df = spark.read.csv(\"/Users/avinashs/PycharmProjects/introtoPython/spark/datasets/Baby_Names__Beginning_2007.csv\")"
   ]
  },
  {
   "cell_type": "code",
   "execution_count": null,
   "id": "5651c859",
   "metadata": {
    "scrolled": true
   },
   "outputs": [],
   "source": [
    "baby_names_df.show()"
   ]
  },
  {
   "cell_type": "markdown",
   "id": "3b0aa2cf",
   "metadata": {},
   "source": [
    "### Read csv file with header"
   ]
  },
  {
   "cell_type": "code",
   "execution_count": null,
   "id": "0fb935c2",
   "metadata": {
    "scrolled": true
   },
   "outputs": [],
   "source": [
    "spark.read.option(\"header\", True).csv(\"/Users/avinashs/PycharmProjects/introtoPython/spark/datasets/Baby_Names__Beginning_2007.csv\")"
   ]
  },
  {
   "cell_type": "markdown",
   "id": "9217022b",
   "metadata": {},
   "source": [
    "### Standard Dataframe Reader for reading data in spark"
   ]
  },
  {
   "cell_type": "code",
   "execution_count": null,
   "id": "25494829",
   "metadata": {
    "scrolled": true
   },
   "outputs": [],
   "source": [
    "spark.read.format(\"json\").load(\"/Users/avinashs/PycharmProjects/introtoPython/spark/datasets/people.json\")"
   ]
  },
  {
   "cell_type": "code",
   "execution_count": null,
   "id": "4b0bd761",
   "metadata": {
    "scrolled": true
   },
   "outputs": [],
   "source": [
    "spark.read.format(\"csv\").option(\"header\", \"True\").load(\"/Users/avinashs/PycharmProjects/introtoPython/spark/datasets/Baby_Names__Beginning_2007.csv\")"
   ]
  },
  {
   "cell_type": "markdown",
   "id": "0816b55a",
   "metadata": {},
   "source": [
    "### Explicity creating dataframe with user-defined schema"
   ]
  },
  {
   "cell_type": "code",
   "execution_count": null,
   "id": "c650315b",
   "metadata": {
    "scrolled": true
   },
   "outputs": [],
   "source": [
    "from pyspark.sql.types import *"
   ]
  },
  {
   "cell_type": "code",
   "execution_count": null,
   "id": "7893c7c3",
   "metadata": {
    "scrolled": true
   },
   "outputs": [],
   "source": [
    "columns = [StructField(\"year\", DateType(), True),\n",
    "                    StructField(\"first_name\", StringType(), True),\n",
    "                    StructField(\"county\", StringType(), True),\n",
    "                    StructField(\"gender\", StringType(), True),\n",
    "                    StructField(\"count\", IntegerType(), True)]"
   ]
  },
  {
   "cell_type": "code",
   "execution_count": null,
   "id": "1fb097d2",
   "metadata": {
    "scrolled": true
   },
   "outputs": [],
   "source": [
    "schema= StructType(columns)"
   ]
  },
  {
   "cell_type": "code",
   "execution_count": null,
   "id": "d61f1d17",
   "metadata": {
    "scrolled": true
   },
   "outputs": [],
   "source": [
    "csv_schema_df = spark.read.format(\"csv\").option(\"mode\", \"DROPMALFORMED\").schema(schema).load(\"/Users/avinashs/PycharmProjects/introtoPython/spark/datasets/Baby_Names__Beginning_2007.csv\")"
   ]
  },
  {
   "cell_type": "code",
   "execution_count": null,
   "id": "b6cbdf78",
   "metadata": {
    "scrolled": true
   },
   "outputs": [],
   "source": [
    "csv_schema_df.show()"
   ]
  },
  {
   "cell_type": "markdown",
   "id": "fba3a308",
   "metadata": {},
   "source": [
    "### Print the schema of the dataframe"
   ]
  },
  {
   "cell_type": "code",
   "execution_count": null,
   "id": "27509863",
   "metadata": {
    "scrolled": true
   },
   "outputs": [],
   "source": [
    "csv_schema_df.printSchema()"
   ]
  },
  {
   "cell_type": "markdown",
   "id": "805c708e",
   "metadata": {},
   "source": [
    "### Describe the dataframe"
   ]
  },
  {
   "cell_type": "code",
   "execution_count": null,
   "id": "a03d14f7",
   "metadata": {
    "scrolled": true
   },
   "outputs": [],
   "source": [
    "csv_schema_df.describe()"
   ]
  },
  {
   "cell_type": "code",
   "execution_count": null,
   "id": "068fc8ae",
   "metadata": {
    "scrolled": true
   },
   "outputs": [],
   "source": [
    "csv_schema_df.count()"
   ]
  },
  {
   "cell_type": "markdown",
   "id": "600fa200",
   "metadata": {},
   "source": [
    "### Get the first row in a dataframe"
   ]
  },
  {
   "cell_type": "code",
   "execution_count": null,
   "id": "faca03fe",
   "metadata": {
    "scrolled": true
   },
   "outputs": [],
   "source": [
    "csv_schema_df.first()"
   ]
  },
  {
   "cell_type": "markdown",
   "id": "afc514d2",
   "metadata": {},
   "source": [
    "### Get n records"
   ]
  },
  {
   "cell_type": "code",
   "execution_count": null,
   "id": "fdcfbe4f",
   "metadata": {},
   "outputs": [],
   "source": [
    "csv_schema_df.take(5)"
   ]
  },
  {
   "cell_type": "markdown",
   "id": "46f1d273",
   "metadata": {},
   "source": [
    "### Get 1st n records"
   ]
  },
  {
   "cell_type": "code",
   "execution_count": null,
   "id": "33c8106d",
   "metadata": {
    "scrolled": true
   },
   "outputs": [],
   "source": [
    "csv_schema_df.head(10)"
   ]
  },
  {
   "cell_type": "markdown",
   "id": "cabaae81",
   "metadata": {},
   "source": [
    "### Get last n records"
   ]
  },
  {
   "cell_type": "code",
   "execution_count": null,
   "id": "9b3537f7",
   "metadata": {
    "scrolled": true
   },
   "outputs": [],
   "source": [
    "csv_schema_df.tail(10)"
   ]
  },
  {
   "cell_type": "markdown",
   "id": "2f740382",
   "metadata": {},
   "source": [
    "### Create row object manually and create spark dataframe from row object"
   ]
  },
  {
   "cell_type": "code",
   "execution_count": null,
   "id": "a969c6a2",
   "metadata": {
    "scrolled": true
   },
   "outputs": [],
   "source": [
    "from pyspark.sql.types import Row"
   ]
  },
  {
   "cell_type": "code",
   "execution_count": null,
   "id": "ce028634",
   "metadata": {
    "scrolled": true
   },
   "outputs": [],
   "source": [
    "row2 = Row(name=\"Alice\", age=11)"
   ]
  },
  {
   "cell_type": "code",
   "execution_count": null,
   "id": "ef39119e",
   "metadata": {
    "scrolled": true
   },
   "outputs": [],
   "source": [
    "row2"
   ]
  },
  {
   "cell_type": "code",
   "execution_count": null,
   "id": "880e9cee",
   "metadata": {
    "scrolled": true
   },
   "outputs": [],
   "source": [
    "row1 = Row(name=\"Janice\", age=15)"
   ]
  },
  {
   "cell_type": "code",
   "execution_count": null,
   "id": "b6169aeb",
   "metadata": {
    "scrolled": true
   },
   "outputs": [],
   "source": [
    "row1.asDict().items()"
   ]
  },
  {
   "cell_type": "code",
   "execution_count": null,
   "id": "d49c0337",
   "metadata": {
    "scrolled": true
   },
   "outputs": [],
   "source": [
    "rows = [row1, row2]"
   ]
  },
  {
   "cell_type": "code",
   "execution_count": null,
   "id": "aa626e72",
   "metadata": {
    "scrolled": true
   },
   "outputs": [],
   "source": [
    "spark.createDataFrame(rows).show()"
   ]
  },
  {
   "cell_type": "code",
   "execution_count": null,
   "id": "09401f80",
   "metadata": {
    "scrolled": true
   },
   "outputs": [],
   "source": [
    "csv_file = \"/Users/avinashs/PycharmProjects/introtoPython/spark/datasets/Baby_Names__Beginning_2007.csv\""
   ]
  },
  {
   "cell_type": "code",
   "execution_count": null,
   "id": "d510ae55",
   "metadata": {
    "scrolled": true
   },
   "outputs": [],
   "source": [
    "rdd = spark.sparkContext.textFile(csv_file)"
   ]
  },
  {
   "cell_type": "code",
   "execution_count": null,
   "id": "5c030c8a",
   "metadata": {
    "scrolled": true
   },
   "outputs": [],
   "source": [
    "rdd_header = rdd.first()"
   ]
  },
  {
   "cell_type": "code",
   "execution_count": null,
   "id": "d72c9de7",
   "metadata": {
    "scrolled": true
   },
   "outputs": [],
   "source": [
    "rdd_data = rdd.filter(lambda x: x != rdd_header)"
   ]
  },
  {
   "cell_type": "code",
   "execution_count": null,
   "id": "5d609cb6",
   "metadata": {
    "scrolled": true
   },
   "outputs": [],
   "source": [
    "rdd_data.count()"
   ]
  },
  {
   "cell_type": "code",
   "execution_count": null,
   "id": "0da789bf",
   "metadata": {
    "scrolled": true
   },
   "outputs": [],
   "source": [
    "rdd_data.take(10)"
   ]
  },
  {
   "cell_type": "code",
   "execution_count": null,
   "id": "a6a1ea6f",
   "metadata": {
    "scrolled": true
   },
   "outputs": [],
   "source": [
    "row_data = rdd_data.map(lambda x: Row(year=int(x.split(\",\")[0]), \n",
    "                           first_name=x.split(\",\")[1], \n",
    "                           country=x.split(\",\")[2], \n",
    "                           gender=x.split(\",\")[3], \n",
    "                           count=int(x.split(\",\")[4])))"
   ]
  },
  {
   "cell_type": "code",
   "execution_count": null,
   "id": "98e0fa82",
   "metadata": {
    "scrolled": true
   },
   "outputs": [],
   "source": [
    "row_data.take(10)"
   ]
  },
  {
   "cell_type": "code",
   "execution_count": null,
   "id": "7378630e",
   "metadata": {
    "scrolled": true
   },
   "outputs": [],
   "source": [
    "df = spark.createDataFrame(row_data)"
   ]
  },
  {
   "cell_type": "code",
   "execution_count": null,
   "id": "440b36fe",
   "metadata": {
    "scrolled": true
   },
   "outputs": [],
   "source": [
    "first_row = df.first()"
   ]
  },
  {
   "cell_type": "code",
   "execution_count": null,
   "id": "42cb4ca0",
   "metadata": {
    "scrolled": true
   },
   "outputs": [],
   "source": [
    "first_row"
   ]
  },
  {
   "cell_type": "code",
   "execution_count": null,
   "id": "bda2d143",
   "metadata": {
    "scrolled": true
   },
   "outputs": [],
   "source": [
    "df.printSchema()"
   ]
  },
  {
   "cell_type": "markdown",
   "id": "5781be3d",
   "metadata": {},
   "source": [
    "### Get all the columns in a spark dataframe"
   ]
  },
  {
   "cell_type": "code",
   "execution_count": null,
   "id": "f8ac7f11",
   "metadata": {
    "scrolled": true
   },
   "outputs": [],
   "source": [
    "df.columns"
   ]
  },
  {
   "cell_type": "markdown",
   "id": "3d25059f",
   "metadata": {},
   "source": [
    "### Access a single column using object notation"
   ]
  },
  {
   "cell_type": "code",
   "execution_count": null,
   "id": "12ca1215",
   "metadata": {
    "scrolled": true
   },
   "outputs": [],
   "source": [
    "df.year"
   ]
  },
  {
   "cell_type": "markdown",
   "id": "6b8c81ac",
   "metadata": {},
   "source": [
    "### Access a single column using dictionary notation"
   ]
  },
  {
   "cell_type": "code",
   "execution_count": null,
   "id": "32228694",
   "metadata": {
    "scrolled": true
   },
   "outputs": [],
   "source": [
    "df[\"year\"]"
   ]
  },
  {
   "cell_type": "code",
   "execution_count": null,
   "id": "e54411a5",
   "metadata": {
    "scrolled": true
   },
   "outputs": [],
   "source": [
    "from pyspark.sql.functions import column, col, expr"
   ]
  },
  {
   "cell_type": "markdown",
   "id": "8374fe43",
   "metadata": {},
   "source": [
    "### Access columns using col, column, expr functions"
   ]
  },
  {
   "cell_type": "code",
   "execution_count": null,
   "id": "f6d87a1e",
   "metadata": {
    "scrolled": true
   },
   "outputs": [],
   "source": [
    "df.select(\"year\").show()"
   ]
  },
  {
   "cell_type": "code",
   "execution_count": null,
   "id": "b6ad026c",
   "metadata": {
    "scrolled": true
   },
   "outputs": [],
   "source": [
    "df.select(col(\"year\"), column(\"country\").alias(\"county\"), col(\"count\"), expr(\"first_name\")).show()"
   ]
  },
  {
   "cell_type": "code",
   "execution_count": null,
   "id": "50ff7482",
   "metadata": {
    "scrolled": true
   },
   "outputs": [],
   "source": [
    "df.select(\"year\", \"country\", \"gender\").show()"
   ]
  },
  {
   "cell_type": "code",
   "execution_count": null,
   "id": "5f0cff9f",
   "metadata": {
    "scrolled": true
   },
   "outputs": [],
   "source": [
    "df.select(\"year\", df.country, df[\"count\"]).show()"
   ]
  },
  {
   "cell_type": "code",
   "execution_count": null,
   "id": "c4c13123",
   "metadata": {
    "scrolled": true
   },
   "outputs": [],
   "source": [
    "df.selectExpr(\"year\", \"country\", \"gender\").show()"
   ]
  },
  {
   "cell_type": "code",
   "execution_count": null,
   "id": "984ea5c1",
   "metadata": {
    "scrolled": true
   },
   "outputs": [],
   "source": [
    "df.selectExpr(\"first_name\").show()"
   ]
  },
  {
   "cell_type": "markdown",
   "id": "9e8b14c9",
   "metadata": {},
   "source": [
    "### filter transformation to get the needed records"
   ]
  },
  {
   "cell_type": "code",
   "execution_count": null,
   "id": "ac0c2ef4",
   "metadata": {
    "scrolled": true
   },
   "outputs": [],
   "source": [
    "df.filter(df.year == 2013).show()"
   ]
  },
  {
   "cell_type": "code",
   "execution_count": null,
   "id": "0ae2c086",
   "metadata": {
    "scrolled": true
   },
   "outputs": [],
   "source": [
    "df.filter(df[\"year\"] == 2013).show()"
   ]
  },
  {
   "cell_type": "code",
   "execution_count": null,
   "id": "34d80143",
   "metadata": {
    "scrolled": true
   },
   "outputs": [],
   "source": [
    "df.filter(\"year == 2013\").show()"
   ]
  },
  {
   "cell_type": "code",
   "execution_count": null,
   "id": "0e1dc04f",
   "metadata": {
    "scrolled": true
   },
   "outputs": [],
   "source": [
    "df.filter(\"year == 2013\").select(\"year\", \"count\").show()"
   ]
  },
  {
   "cell_type": "markdown",
   "id": "52f79950",
   "metadata": {},
   "source": [
    "### expr transformation"
   ]
  },
  {
   "cell_type": "code",
   "execution_count": null,
   "id": "b3c54fe0",
   "metadata": {},
   "outputs": [],
   "source": [
    "df.select(\"first_name\").show()"
   ]
  },
  {
   "cell_type": "code",
   "execution_count": null,
   "id": "c0f3af34",
   "metadata": {},
   "outputs": [],
   "source": [
    "from pyspark.sql.functions import length"
   ]
  },
  {
   "cell_type": "code",
   "execution_count": null,
   "id": "a05541e9",
   "metadata": {},
   "outputs": [],
   "source": [
    "df.select(length(\"first_name\").alias(\"first_name_length\")).show()"
   ]
  },
  {
   "cell_type": "code",
   "execution_count": null,
   "id": "cf4dd79d",
   "metadata": {},
   "outputs": [],
   "source": [
    "df.selectExpr(\"length(first_name)\").show()"
   ]
  },
  {
   "cell_type": "code",
   "execution_count": null,
   "id": "6011140a",
   "metadata": {},
   "outputs": [],
   "source": [
    "df.selectExpr(\"count * 2\").show()"
   ]
  },
  {
   "cell_type": "markdown",
   "id": "11824072",
   "metadata": {},
   "source": [
    "### select all columns in a dataframe"
   ]
  },
  {
   "cell_type": "code",
   "execution_count": null,
   "id": "0a224064",
   "metadata": {},
   "outputs": [],
   "source": [
    "df.select(df.columns).show(truncate=False)"
   ]
  },
  {
   "cell_type": "markdown",
   "id": "0f67a3dd",
   "metadata": {},
   "source": [
    "### select needed columns in a dataframe"
   ]
  },
  {
   "cell_type": "code",
   "execution_count": null,
   "id": "12404a90",
   "metadata": {},
   "outputs": [],
   "source": [
    "needed_columns = [\"year\", \"first_name\", \"gender\"]\n",
    "df.select(*needed_columns).show()"
   ]
  },
  {
   "cell_type": "code",
   "execution_count": null,
   "id": "96032859",
   "metadata": {},
   "outputs": [],
   "source": [
    "spark.stop()"
   ]
  }
 ],
 "metadata": {
  "kernelspec": {
   "display_name": "Python 3 (ipykernel)",
   "language": "python",
   "name": "python3"
  },
  "language_info": {
   "codemirror_mode": {
    "name": "ipython",
    "version": 3
   },
   "file_extension": ".py",
   "mimetype": "text/x-python",
   "name": "python",
   "nbconvert_exporter": "python",
   "pygments_lexer": "ipython3",
   "version": "3.9.7"
  }
 },
 "nbformat": 4,
 "nbformat_minor": 5
}
