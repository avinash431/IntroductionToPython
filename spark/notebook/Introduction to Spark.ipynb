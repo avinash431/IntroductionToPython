{
 "cells": [
  {
   "cell_type": "code",
   "execution_count": null,
   "id": "fb12ad27",
   "metadata": {},
   "outputs": [],
   "source": [
    "import findspark"
   ]
  },
  {
   "cell_type": "code",
   "execution_count": null,
   "id": "dc40a03f",
   "metadata": {},
   "outputs": [],
   "source": [
    "findspark.init()"
   ]
  },
  {
   "cell_type": "code",
   "execution_count": null,
   "id": "c22bebc9",
   "metadata": {},
   "outputs": [],
   "source": [
    "findspark.find()"
   ]
  },
  {
   "cell_type": "code",
   "execution_count": null,
   "id": "a6df3282",
   "metadata": {},
   "outputs": [],
   "source": [
    "from pyspark.sql import SparkSession"
   ]
  },
  {
   "cell_type": "markdown",
   "id": "0a46bbac",
   "metadata": {},
   "source": [
    "### Spark Session object"
   ]
  },
  {
   "cell_type": "code",
   "execution_count": null,
   "id": "b12786b7",
   "metadata": {},
   "outputs": [],
   "source": [
    "spark = SparkSession.builder.appName(\"Anaconda python\").master(\"local[5]\").getOrCreate()"
   ]
  },
  {
   "cell_type": "code",
   "execution_count": null,
   "id": "bb41b988",
   "metadata": {},
   "outputs": [],
   "source": [
    "spark"
   ]
  },
  {
   "cell_type": "markdown",
   "id": "90aa03bf",
   "metadata": {},
   "source": [
    "### Spark Context"
   ]
  },
  {
   "cell_type": "code",
   "execution_count": null,
   "id": "da1aac1b",
   "metadata": {},
   "outputs": [],
   "source": [
    "sc = spark.sparkContext"
   ]
  },
  {
   "cell_type": "markdown",
   "id": "4a465963",
   "metadata": {},
   "source": [
    "### Create rdd from memory"
   ]
  },
  {
   "cell_type": "code",
   "execution_count": null,
   "id": "5354388a",
   "metadata": {},
   "outputs": [],
   "source": [
    "numbers_rdd = sc.parallelize(range(1,101), 4)"
   ]
  },
  {
   "cell_type": "code",
   "execution_count": null,
   "id": "17f5bcf1",
   "metadata": {},
   "outputs": [],
   "source": [
    "numbers_rdd"
   ]
  },
  {
   "cell_type": "markdown",
   "id": "25bcf2f2",
   "metadata": {},
   "source": [
    "## Map partitions with Index"
   ]
  },
  {
   "cell_type": "code",
   "execution_count": null,
   "id": "831fd75f",
   "metadata": {},
   "outputs": [],
   "source": [
    "def print_elements_in_partition(index, elements):\n",
    "    for element in elements:\n",
    "        yield f\"partition: {index} has element: {element}\""
   ]
  },
  {
   "cell_type": "code",
   "execution_count": null,
   "id": "abe387cc",
   "metadata": {},
   "outputs": [],
   "source": [
    "numbers_rdd.mapPartitionsWithIndex(print_elements_in_partition).collect()"
   ]
  },
  {
   "cell_type": "markdown",
   "id": "fa31388c",
   "metadata": {},
   "source": [
    "### Map transfromation"
   ]
  },
  {
   "cell_type": "code",
   "execution_count": null,
   "id": "b6cc3fb0",
   "metadata": {},
   "outputs": [],
   "source": [
    "numbers_rdd.map(lambda x: x*x).collect()"
   ]
  },
  {
   "cell_type": "markdown",
   "id": "b44db7cc",
   "metadata": {},
   "source": [
    "### Filter transformation"
   ]
  },
  {
   "cell_type": "code",
   "execution_count": null,
   "id": "d970a08f",
   "metadata": {},
   "outputs": [],
   "source": [
    "numbers_rdd.filter(lambda x : x%2 ==0).collect()"
   ]
  },
  {
   "cell_type": "markdown",
   "id": "0422afb0",
   "metadata": {},
   "source": [
    "### Get Number of partitions of a rdd"
   ]
  },
  {
   "cell_type": "code",
   "execution_count": 26,
   "id": "62fc7aaa",
   "metadata": {},
   "outputs": [
    {
     "data": {
      "text/plain": [
       "4"
      ]
     },
     "execution_count": 26,
     "metadata": {},
     "output_type": "execute_result"
    }
   ],
   "source": [
    "numbers_rdd.getNumPartitions()"
   ]
  },
  {
   "cell_type": "markdown",
   "id": "8c0e77fd",
   "metadata": {},
   "source": [
    "### Count Action"
   ]
  },
  {
   "cell_type": "code",
   "execution_count": 27,
   "id": "fad1abab",
   "metadata": {},
   "outputs": [
    {
     "data": {
      "text/plain": [
       "100"
      ]
     },
     "execution_count": 27,
     "metadata": {},
     "output_type": "execute_result"
    }
   ],
   "source": [
    "numbers_rdd.count()"
   ]
  },
  {
   "cell_type": "code",
   "execution_count": null,
   "id": "fe6e8f32",
   "metadata": {},
   "outputs": [],
   "source": []
  }
 ],
 "metadata": {
  "kernelspec": {
   "display_name": "Python 3 (ipykernel)",
   "language": "python",
   "name": "python3"
  },
  "language_info": {
   "codemirror_mode": {
    "name": "ipython",
    "version": 3
   },
   "file_extension": ".py",
   "mimetype": "text/x-python",
   "name": "python",
   "nbconvert_exporter": "python",
   "pygments_lexer": "ipython3",
   "version": "3.9.7"
  }
 },
 "nbformat": 4,
 "nbformat_minor": 5
}
