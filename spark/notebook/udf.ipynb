{
 "cells": [
  {
   "cell_type": "code",
   "execution_count": 1,
   "id": "f3f9756e",
   "metadata": {},
   "outputs": [
    {
     "name": "stderr",
     "output_type": "stream",
     "text": [
      "WARNING: An illegal reflective access operation has occurred\n",
      "WARNING: Illegal reflective access by org.apache.spark.unsafe.Platform (file:/Users/avinashs/Downloads/softwares/spark-3.0.0-bin-hadoop2.7/jars/spark-unsafe_2.12-3.0.0.jar) to constructor java.nio.DirectByteBuffer(long,int)\n",
      "WARNING: Please consider reporting this to the maintainers of org.apache.spark.unsafe.Platform\n",
      "WARNING: Use --illegal-access=warn to enable warnings of further illegal reflective access operations\n",
      "WARNING: All illegal access operations will be denied in a future release\n",
      "22/08/17 06:14:37 WARN NativeCodeLoader: Unable to load native-hadoop library for your platform... using builtin-java classes where applicable\n",
      "Using Spark's default log4j profile: org/apache/spark/log4j-defaults.properties\n",
      "Setting default log level to \"WARN\".\n",
      "To adjust logging level use sc.setLogLevel(newLevel). For SparkR, use setLogLevel(newLevel).\n"
     ]
    }
   ],
   "source": [
    "import findspark\n",
    "findspark.init()\n",
    "\n",
    "from pyspark.sql import SparkSession\n",
    "\n",
    "spark = SparkSession.builder.getOrCreate()"
   ]
  },
  {
   "cell_type": "markdown",
   "id": "71a74283",
   "metadata": {},
   "source": [
    "### To create 2 udf\n",
    "\n",
    "1. create your function\n",
    "2. convert that function to udf using udf function\n",
    "3. access the udf function in your spark session"
   ]
  },
  {
   "cell_type": "code",
   "execution_count": 4,
   "id": "59ad4c10",
   "metadata": {},
   "outputs": [],
   "source": [
    "from pyspark.sql.functions import udf\n",
    "from pyspark.sql.types import IntegerType"
   ]
  },
  {
   "cell_type": "code",
   "execution_count": 3,
   "id": "440cabd7",
   "metadata": {},
   "outputs": [],
   "source": [
    "def my_len(s):\n",
    "    return len(s)"
   ]
  },
  {
   "cell_type": "code",
   "execution_count": 5,
   "id": "752a28e1",
   "metadata": {},
   "outputs": [],
   "source": [
    "len_udf = udf(my_len, IntegerType())"
   ]
  },
  {
   "cell_type": "code",
   "execution_count": 6,
   "id": "51c6f0f8",
   "metadata": {},
   "outputs": [],
   "source": [
    "df = spark.createDataFrame(\n",
    "    [\n",
    "        (1, \"Peter Pan\", \"1999-04-23\", 90, 3),\n",
    "        (2, \"Alice Smith\", \"2000-05-15\", 100, 2),\n",
    "        (3, \"Bob Miller\", \"2000-09-01\", 80, 3),\n",
    "        (4, \"April May\", \"1999-09-30\", 110, 1),\n",
    "        (5, \"Billie Jean\", \"1990-07-12\", 360, None)\n",
    "    ],\n",
    "    [\"leftid\", \"name\", \"date-of-birth\", \"creditscore\", \"universityid\"]\n",
    ")"
   ]
  },
  {
   "cell_type": "code",
   "execution_count": 8,
   "id": "9a5c4306",
   "metadata": {},
   "outputs": [
    {
     "name": "stderr",
     "output_type": "stream",
     "text": [
      "                                                                                \r"
     ]
    },
    {
     "name": "stdout",
     "output_type": "stream",
     "text": [
      "+------------+\n",
      "|my_len(name)|\n",
      "+------------+\n",
      "|           9|\n",
      "|          11|\n",
      "|          10|\n",
      "|           9|\n",
      "|          11|\n",
      "+------------+\n",
      "\n"
     ]
    }
   ],
   "source": [
    "df.select(len_udf(\"name\")).show()"
   ]
  },
  {
   "cell_type": "code",
   "execution_count": 9,
   "id": "5e2bbc55",
   "metadata": {},
   "outputs": [],
   "source": [
    "@udf(returnType=IntegerType())\n",
    "def decorator_len(s):\n",
    "    return len(s)"
   ]
  },
  {
   "cell_type": "code",
   "execution_count": 10,
   "id": "7aefad8f",
   "metadata": {},
   "outputs": [
    {
     "name": "stdout",
     "output_type": "stream",
     "text": [
      "+-------------------+\n",
      "|decorator_len(name)|\n",
      "+-------------------+\n",
      "|                  9|\n",
      "|                 11|\n",
      "|                 10|\n",
      "|                  9|\n",
      "|                 11|\n",
      "+-------------------+\n",
      "\n"
     ]
    }
   ],
   "source": [
    "df.select(decorator_len(\"name\")).show()"
   ]
  },
  {
   "cell_type": "code",
   "execution_count": 16,
   "id": "f7096220",
   "metadata": {},
   "outputs": [],
   "source": [
    "from pyspark.sql.functions import PandasUDFType, pandas_udf\n",
    "import pandas as pd"
   ]
  },
  {
   "cell_type": "code",
   "execution_count": 17,
   "id": "a76b0b21",
   "metadata": {},
   "outputs": [
    {
     "name": "stderr",
     "output_type": "stream",
     "text": [
      "/Users/avinashs/Downloads/softwares/spark-3.0.0-bin-hadoop2.7/python/pyspark/sql/pandas/functions.py:383: UserWarning: In Python 3.6+ and Spark 3.0+, it is preferred to specify type hints for pandas UDF instead of specifying pandas UDF type which will be deprecated in the future releases. See SPARK-28264 for more details.\n",
      "  warnings.warn(\n"
     ]
    }
   ],
   "source": [
    "@pandas_udf(IntegerType(), PandasUDFType.SCALAR)\n",
    "def slen(s: pd.Series):\n",
    "    return s.str.len()"
   ]
  },
  {
   "cell_type": "code",
   "execution_count": null,
   "id": "dd1c0072",
   "metadata": {},
   "outputs": [],
   "source": [
    "df.select(slen(\"name\")).show()"
   ]
  },
  {
   "cell_type": "code",
   "execution_count": 11,
   "id": "ee3734bb",
   "metadata": {},
   "outputs": [],
   "source": [
    "spark.stop()"
   ]
  }
 ],
 "metadata": {
  "kernelspec": {
   "display_name": "Python 3 (ipykernel)",
   "language": "python",
   "name": "python3"
  },
  "language_info": {
   "codemirror_mode": {
    "name": "ipython",
    "version": 3
   },
   "file_extension": ".py",
   "mimetype": "text/x-python",
   "name": "python",
   "nbconvert_exporter": "python",
   "pygments_lexer": "ipython3",
   "version": "3.9.7"
  }
 },
 "nbformat": 4,
 "nbformat_minor": 5
}
