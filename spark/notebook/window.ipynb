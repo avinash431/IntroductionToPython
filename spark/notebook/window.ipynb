{
 "cells": [
  {
   "cell_type": "code",
   "execution_count": 1,
   "id": "035102b8",
   "metadata": {},
   "outputs": [],
   "source": [
    "import findspark\n",
    "findspark.init()\n",
    "\n",
    "from pyspark import SparkContext\n",
    "from pyspark.streaming import StreamingContext"
   ]
  },
  {
   "cell_type": "code",
   "execution_count": 25,
   "id": "c7616181",
   "metadata": {},
   "outputs": [],
   "source": [
    "sc = SparkContext(\"local[2]\", \"NetworkWordCount\")\n",
    "ssc = StreamingContext(sc, 10)\n",
    "\n",
    "ssc.checkpoint(\"/Users/avinashs/Desktop/check-point\")"
   ]
  },
  {
   "cell_type": "code",
   "execution_count": 26,
   "id": "d71a019f",
   "metadata": {},
   "outputs": [],
   "source": [
    "lines = ssc.textFileStream(\"/Users/avinashs/Desktop/spark-streaming/\")"
   ]
  },
  {
   "cell_type": "code",
   "execution_count": 27,
   "id": "0cd129fa",
   "metadata": {},
   "outputs": [],
   "source": [
    "words = lines.flatMap(lambda line: line.split(\" \"))"
   ]
  },
  {
   "cell_type": "code",
   "execution_count": 28,
   "id": "d0df45de",
   "metadata": {},
   "outputs": [],
   "source": [
    "pairs = words.map(lambda word: (word, 1))"
   ]
  },
  {
   "cell_type": "code",
   "execution_count": 29,
   "id": "2c0088af",
   "metadata": {},
   "outputs": [],
   "source": [
    "windowedWordCounts = pairs.reduceByKeyAndWindow(lambda x, y: x + y, lambda x, y: x - y, 30, 10)"
   ]
  },
  {
   "cell_type": "code",
   "execution_count": 30,
   "id": "735bfaa6",
   "metadata": {},
   "outputs": [],
   "source": [
    "windowedWordCounts.pprint()"
   ]
  },
  {
   "cell_type": "code",
   "execution_count": 31,
   "id": "c5e7b9e9",
   "metadata": {},
   "outputs": [
    {
     "name": "stderr",
     "output_type": "stream",
     "text": [
      "\r",
      "[Stage 1:>                                                          (0 + 1) / 1]\r",
      "\r",
      "                                                                                \r"
     ]
    },
    {
     "name": "stdout",
     "output_type": "stream",
     "text": [
      "-------------------------------------------\n",
      "Time: 2022-08-21 08:02:30\n",
      "-------------------------------------------\n",
      "\n",
      "-------------------------------------------\n",
      "Time: 2022-08-21 08:02:40\n",
      "-------------------------------------------\n",
      "('world', 1)\n",
      "('hello', 1)\n",
      "('spark', 1)\n",
      "('file', 1)\n",
      "\n",
      "-------------------------------------------\n",
      "Time: 2022-08-21 08:02:50\n",
      "-------------------------------------------\n",
      "('world', 1)\n",
      "('hello', 1)\n",
      "('spark', 1)\n",
      "('file', 1)\n",
      "\n",
      "-------------------------------------------\n",
      "Time: 2022-08-21 08:03:00\n",
      "-------------------------------------------\n",
      "('world', 2)\n",
      "('', 1)\n",
      "('hello', 2)\n",
      "('spark', 2)\n",
      "('file', 1)\n",
      "('another', 1)\n",
      "\n",
      "-------------------------------------------\n",
      "Time: 2022-08-21 08:03:10\n",
      "-------------------------------------------\n",
      "('world', 2)\n",
      "('', 1)\n",
      "('worldspark', 8)\n",
      "('hello', 10)\n",
      "('spark', 2)\n",
      "('another', 10)\n",
      "\n",
      "-------------------------------------------\n",
      "Time: 2022-08-21 08:03:20\n",
      "-------------------------------------------\n",
      "('world', 2)\n",
      "('', 1)\n",
      "('worldspark', 8)\n",
      "('hello', 10)\n",
      "('spark', 2)\n",
      "('another', 10)\n",
      "\n",
      "-------------------------------------------\n",
      "Time: 2022-08-21 08:03:30\n",
      "-------------------------------------------\n",
      "('worldspark', 8)\n",
      "('world', 1)\n",
      "('spark', 1)\n",
      "('hello', 9)\n",
      "('another', 9)\n",
      "\n",
      "-------------------------------------------\n",
      "Time: 2022-08-21 08:03:40\n",
      "-------------------------------------------\n",
      "\n",
      "-------------------------------------------\n",
      "Time: 2022-08-21 08:03:50\n",
      "-------------------------------------------\n",
      "\n",
      "-------------------------------------------\n",
      "Time: 2022-08-21 08:04:00\n",
      "-------------------------------------------\n",
      "\n",
      "-------------------------------------------\n",
      "Time: 2022-08-21 08:04:10\n",
      "-------------------------------------------\n",
      "\n",
      "-------------------------------------------\n",
      "Time: 2022-08-21 08:04:20\n",
      "-------------------------------------------\n",
      "\n",
      "-------------------------------------------\n",
      "Time: 2022-08-21 08:04:30\n",
      "-------------------------------------------\n",
      "\n",
      "-------------------------------------------\n",
      "Time: 2022-08-21 08:04:40\n",
      "-------------------------------------------\n",
      "\n"
     ]
    }
   ],
   "source": [
    "ssc.start()"
   ]
  },
  {
   "cell_type": "code",
   "execution_count": 32,
   "id": "5a9cf704",
   "metadata": {},
   "outputs": [
    {
     "name": "stderr",
     "output_type": "stream",
     "text": [
      "22/08/21 08:04:44 WARN BatchedWriteAheadLog: BatchedWriteAheadLog Writer queue interrupted.\n"
     ]
    }
   ],
   "source": [
    "ssc.stop()"
   ]
  },
  {
   "cell_type": "code",
   "execution_count": 33,
   "id": "bfb6b592",
   "metadata": {},
   "outputs": [],
   "source": [
    "sc.stop()"
   ]
  }
 ],
 "metadata": {
  "kernelspec": {
   "display_name": "Python 3 (ipykernel)",
   "language": "python",
   "name": "python3"
  },
  "language_info": {
   "codemirror_mode": {
    "name": "ipython",
    "version": 3
   },
   "file_extension": ".py",
   "mimetype": "text/x-python",
   "name": "python",
   "nbconvert_exporter": "python",
   "pygments_lexer": "ipython3",
   "version": "3.9.7"
  }
 },
 "nbformat": 4,
 "nbformat_minor": 5
}
