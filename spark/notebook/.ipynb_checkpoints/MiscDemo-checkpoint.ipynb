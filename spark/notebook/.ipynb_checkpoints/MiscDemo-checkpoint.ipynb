{
 "cells": [
  {
   "cell_type": "code",
   "execution_count": null,
   "metadata": {},
   "outputs": [],
   "source": [
    "import findspark\n",
    "findspark.init()\n",
    "\n",
    "import pyspark\n",
    "from pyspark.sql import *\n",
    "from pyspark.sql.functions import *\n",
    "from pyspark.sql.types import *\n",
    "\n",
    "spark = SparkSession.builder \\\n",
    "            .master(\"local[3]\") \\\n",
    "            .appName(\"MiscDemo\") \\\n",
    "            .getOrCreate()\n",
    "\n",
    "data_list = [(\"Ravi\", \"28\", \"1\", \"2002\"),\n",
    "             (\"Abdul\", \"23\", \"5\", \"81\"), # 1981\n",
    "             (\"John\", \"12\", \"12\", \"6\"), # 2006\n",
    "             (\"Rosy\", \"7\", \"8\", \"63\"), # 1963\n",
    "             (\"Abdul\", \"23\", \"5\", \"81\") # 1981\n",
    "            ]\n",
    "raw_df = spark.createDataFrame(data_list).toDF(\"name\", \"day\", \"month\", \"year\").repartition(3)\n",
    "raw_df.printSchema()"
   ]
  },
  {
   "cell_type": "code",
   "execution_count": null,
   "metadata": {},
   "outputs": [],
   "source": [
    "df1 = raw_df.withColumn(\"id\", monotonically_increasing_id())\n",
    "df1.show()"
   ]
  },
  {
   "cell_type": "code",
   "execution_count": null,
   "metadata": {},
   "outputs": [],
   "source": [
    "df2 = df1.withColumn(\"year\", expr(\"\"\"\n",
    "         case when year < 21 then year + 2000\n",
    "         when year < 100 then year + 1900\n",
    "         else year\n",
    "         end\"\"\"))\n",
    "df2.show()"
   ]
  },
  {
   "cell_type": "code",
   "execution_count": null,
   "metadata": {},
   "outputs": [],
   "source": [
    "df3 = df1.withColumn(\"year\", expr(\"\"\"\n",
    "         case when year < 21 then cast(year as int) + 2000\n",
    "         when year < 100 then cast(year as int) + 1900\n",
    "         else year\n",
    "         end\"\"\"))\n",
    "df3.show()"
   ]
  },
  {
   "cell_type": "code",
   "execution_count": null,
   "metadata": {},
   "outputs": [],
   "source": [
    "df4 = df1.withColumn(\"year\", expr(\"\"\"\n",
    "         case when year < 21 then year + 2000\n",
    "         when year < 100 then year + 1900\n",
    "         else year\n",
    "         end\"\"\").cast(IntegerType()))\n",
    "df4.show()\n",
    "df4.printSchema()"
   ]
  },
  {
   "cell_type": "code",
   "execution_count": null,
   "metadata": {},
   "outputs": [],
   "source": [
    "df5 = df1.withColumn(\"day\", col(\"day\").cast(IntegerType())) \\\n",
    "         .withColumn(\"month\", col(\"month\").cast(IntegerType())) \\\n",
    "         .withColumn(\"year\", col(\"year\").cast(IntegerType())) \n",
    "\n",
    "df6 = df5.withColumn(\"year\", expr(\"\"\"\n",
    "          case when year < 21 then year + 2000\n",
    "          when year < 100 then year + 1900\n",
    "          else year\n",
    "          end\"\"\"))\n",
    "df6.show()"
   ]
  },
  {
   "cell_type": "code",
   "execution_count": null,
   "metadata": {},
   "outputs": [],
   "source": [
    "df7 = df5.withColumn(\"year\", \\\n",
    "                    when(col(\"year\") < 21, col(\"year\") + 2000) \\\n",
    "                    .when(col(\"year\") < 100, col(\"year\") + 1900) \\\n",
    "                    .otherwise(col(\"year\")))\n",
    "df7.show()"
   ]
  },
  {
   "cell_type": "code",
   "execution_count": null,
   "metadata": {},
   "outputs": [],
   "source": [
    "df8 = df7.withColumn(\"dob\", expr(\"to_date(concat(day,'/',month,'/',year), 'd/M/y')\"))\n",
    "df8.show()"
   ]
  },
  {
   "cell_type": "code",
   "execution_count": null,
   "metadata": {},
   "outputs": [],
   "source": [
    "df9 = df7.withColumn(\"dob\", to_date(expr(\"concat(day,'/',month,'/',year)\"), 'd/M/y')) \\\n",
    "         .drop(\"day\", \"month\", \"year\") \\\n",
    "         .dropDuplicates([\"name\", \"dob\"]) \\\n",
    "         .sort(expr(\"dob desc\"))\n",
    "df9.show()"
   ]
  }
 ],
 "metadata": {
  "kernelspec": {
   "display_name": "Python 3 (ipykernel)",
   "language": "python",
   "name": "python3"
  },
  "language_info": {
   "codemirror_mode": {
    "name": "ipython",
    "version": 3
   },
   "file_extension": ".py",
   "mimetype": "text/x-python",
   "name": "python",
   "nbconvert_exporter": "python",
   "pygments_lexer": "ipython3",
   "version": "3.9.7"
  }
 },
 "nbformat": 4,
 "nbformat_minor": 2
}
