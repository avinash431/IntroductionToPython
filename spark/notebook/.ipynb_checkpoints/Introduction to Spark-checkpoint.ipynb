{
 "cells": [
  {
   "cell_type": "code",
   "execution_count": null,
   "id": "fb12ad27",
   "metadata": {},
   "outputs": [],
   "source": [
    "import findspark"
   ]
  },
  {
   "cell_type": "code",
   "execution_count": null,
   "id": "dc40a03f",
   "metadata": {},
   "outputs": [],
   "source": [
    "findspark.init()"
   ]
  },
  {
   "cell_type": "code",
   "execution_count": null,
   "id": "c22bebc9",
   "metadata": {},
   "outputs": [],
   "source": [
    "findspark.find()"
   ]
  },
  {
   "cell_type": "code",
   "execution_count": null,
   "id": "a6df3282",
   "metadata": {},
   "outputs": [],
   "source": [
    "from pyspark.sql import SparkSession"
   ]
  },
  {
   "cell_type": "markdown",
   "id": "f9bb137c",
   "metadata": {},
   "source": [
    "### Spark Session object"
   ]
  },
  {
   "cell_type": "code",
   "execution_count": null,
   "id": "b12786b7",
   "metadata": {},
   "outputs": [],
   "source": [
    "spark = SparkSession.builder.appName(\"Anaconda python\").master(\"local[5]\").getOrCreate()"
   ]
  },
  {
   "cell_type": "code",
   "execution_count": null,
   "id": "bb41b988",
   "metadata": {},
   "outputs": [],
   "source": [
    "spark"
   ]
  },
  {
   "cell_type": "markdown",
   "id": "88a51277",
   "metadata": {},
   "source": [
    "### Create Spark Context from Spark session object"
   ]
  },
  {
   "cell_type": "code",
   "execution_count": null,
   "id": "da1aac1b",
   "metadata": {},
   "outputs": [],
   "source": [
    "sc = spark.sparkContext"
   ]
  },
  {
   "cell_type": "markdown",
   "id": "8c0b7cd6",
   "metadata": {},
   "source": [
    "### Create rdd from memory"
   ]
  },
  {
   "cell_type": "code",
   "execution_count": null,
   "id": "5354388a",
   "metadata": {},
   "outputs": [],
   "source": [
    "numbers_rdd = sc.parallelize(range(1,101), 4)"
   ]
  },
  {
   "cell_type": "code",
   "execution_count": null,
   "id": "ea01d8d1",
   "metadata": {},
   "outputs": [],
   "source": [
    "numbers_rdd"
   ]
  },
  {
   "cell_type": "markdown",
   "id": "81f7fd38",
   "metadata": {},
   "source": [
    "## Map partitions with Index"
   ]
  },
  {
   "cell_type": "code",
   "execution_count": null,
   "id": "a27dbb4f",
   "metadata": {},
   "outputs": [],
   "source": [
    "def print_elements_in_partition(index, elements):\n",
    "    for element in elements:\n",
    "        yield f\"partition: {index} has element: {element}\""
   ]
  },
  {
   "cell_type": "code",
   "execution_count": null,
   "id": "db656fb0",
   "metadata": {},
   "outputs": [],
   "source": [
    "numbers_rdd.mapPartitionsWithIndex(print_elements_in_partition).collect()"
   ]
  },
  {
   "cell_type": "markdown",
   "id": "c2f5ec20",
   "metadata": {},
   "source": [
    "### Map transfromation"
   ]
  },
  {
   "cell_type": "code",
   "execution_count": null,
   "id": "f8b9de5c",
   "metadata": {},
   "outputs": [],
   "source": [
    "numbers_rdd.map(lambda x: x*x).collect()"
   ]
  },
  {
   "cell_type": "markdown",
   "id": "bcfb6722",
   "metadata": {},
   "source": [
    "### Filter transformation"
   ]
  },
  {
   "cell_type": "code",
   "execution_count": null,
   "id": "db679b7b",
   "metadata": {},
   "outputs": [],
   "source": [
    "numbers_rdd.filter(lambda x : x%2 ==0).collect()"
   ]
  },
  {
   "cell_type": "markdown",
   "id": "f2bbd45c",
   "metadata": {},
   "source": [
    "### Get Number of partitions of a rdd"
   ]
  },
  {
   "cell_type": "code",
   "execution_count": null,
   "id": "e9d7f571",
   "metadata": {},
   "outputs": [],
   "source": [
    "numbers_rdd.getNumPartitions()"
   ]
  },
  {
   "cell_type": "markdown",
   "id": "2b127b77",
   "metadata": {},
   "source": [
    "### Count Action"
   ]
  },
  {
   "cell_type": "code",
   "execution_count": null,
   "id": "7335a6f6",
   "metadata": {},
   "outputs": [],
   "source": [
    "numbers_rdd.count()"
   ]
  },
  {
   "cell_type": "markdown",
   "id": "5ccb8640",
   "metadata": {},
   "source": [
    "### flatMap transformation"
   ]
  },
  {
   "cell_type": "code",
   "execution_count": null,
   "id": "2d29341a",
   "metadata": {},
   "outputs": [],
   "source": [
    "sentences = [\"This is a sentence1.\", \"This is sentence2.\", \"This is sentence3\"]"
   ]
  },
  {
   "cell_type": "code",
   "execution_count": null,
   "id": "eae8db1e",
   "metadata": {},
   "outputs": [],
   "source": [
    "sentence_rdd = sc.parallelize(sentences)"
   ]
  },
  {
   "cell_type": "code",
   "execution_count": null,
   "id": "21ae181e",
   "metadata": {},
   "outputs": [],
   "source": [
    "sentence_rdd.collect()"
   ]
  },
  {
   "cell_type": "code",
   "execution_count": null,
   "id": "a0c625f7",
   "metadata": {},
   "outputs": [],
   "source": [
    "sentence_rdd.flatMap(lambda x:x.split()).collect()"
   ]
  },
  {
   "cell_type": "markdown",
   "id": "3154f0da",
   "metadata": {},
   "source": [
    "#### Get the number of rdd partitions"
   ]
  },
  {
   "cell_type": "code",
   "execution_count": null,
   "id": "608002ba",
   "metadata": {},
   "outputs": [],
   "source": [
    "rdd = sc.textFile(\"/Users/avinashs/Downloads/pyspark/datasets/Baby_Names__Beginning_2007.csv\")"
   ]
  },
  {
   "cell_type": "code",
   "execution_count": null,
   "id": "0c5f5a02",
   "metadata": {},
   "outputs": [],
   "source": [
    "rdd"
   ]
  },
  {
   "cell_type": "code",
   "execution_count": null,
   "id": "102c4a01",
   "metadata": {},
   "outputs": [],
   "source": [
    "rdd.getNumPartitions()"
   ]
  },
  {
   "cell_type": "code",
   "execution_count": null,
   "id": "8cef47aa",
   "metadata": {},
   "outputs": [],
   "source": [
    "rdd.collect()"
   ]
  },
  {
   "cell_type": "markdown",
   "id": "cc681c1b",
   "metadata": {},
   "source": [
    "### Count the number of elements in a rdd"
   ]
  },
  {
   "cell_type": "code",
   "execution_count": null,
   "id": "28882b8c",
   "metadata": {},
   "outputs": [],
   "source": [
    "rdd.count()"
   ]
  },
  {
   "cell_type": "markdown",
   "id": "77616a44",
   "metadata": {},
   "source": [
    "### Mappartitions index transformation"
   ]
  },
  {
   "cell_type": "code",
   "execution_count": null,
   "id": "11fdf9e9",
   "metadata": {},
   "outputs": [],
   "source": [
    "def count_baby_names_partitions_wise(index, iterator):\n",
    "    count_records = 0\n",
    "    for row in iterator:\n",
    "        count_records += 1\n",
    "    yield f\"Parition {index} has {count_records} records\""
   ]
  },
  {
   "cell_type": "code",
   "execution_count": null,
   "id": "d420385c",
   "metadata": {},
   "outputs": [],
   "source": [
    "rdd.mapPartitionsWithIndex(count_baby_names_partitions_wise).collect()"
   ]
  },
  {
   "cell_type": "code",
   "execution_count": null,
   "id": "8cef79c1",
   "metadata": {},
   "outputs": [],
   "source": [
    "def skip_header(index, iterator):\n",
    "    number = 0\n",
    "    for row in iterator:\n",
    "        if index == 0 and number == 0:\n",
    "            number += 1\n",
    "            continue\n",
    "        yield row\n",
    "            \n",
    "    \n",
    "            "
   ]
  },
  {
   "cell_type": "code",
   "execution_count": null,
   "id": "c335cb4c",
   "metadata": {},
   "outputs": [],
   "source": [
    "data_rdd = rdd.mapPartitionsWithIndex(skip_header)"
   ]
  },
  {
   "cell_type": "code",
   "execution_count": null,
   "id": "3bf45fe6",
   "metadata": {},
   "outputs": [],
   "source": [
    "year_rdd = data_rdd.map(lambda x: (x.split(\",\")[0], int(x.split(\",\")[-1])))"
   ]
  },
  {
   "cell_type": "markdown",
   "id": "7319349f",
   "metadata": {},
   "source": [
    "### reducebykey and groupbykey transformations"
   ]
  },
  {
   "cell_type": "code",
   "execution_count": null,
   "id": "f2d40796",
   "metadata": {},
   "outputs": [],
   "source": [
    "year_rdd.reduceByKey(lambda x, y : x+y).collect()"
   ]
  },
  {
   "cell_type": "code",
   "execution_count": null,
   "id": "0d48d1d9",
   "metadata": {},
   "outputs": [],
   "source": [
    "year_rdd.groupByKey().mapValues(sum).collect()"
   ]
  },
  {
   "cell_type": "code",
   "execution_count": null,
   "id": "77da7be0",
   "metadata": {},
   "outputs": [],
   "source": [
    "year_rdd.getNumPartitions()"
   ]
  },
  {
   "cell_type": "markdown",
   "id": "4c1bf957",
   "metadata": {},
   "source": [
    "### Increase the number of partition"
   ]
  },
  {
   "cell_type": "code",
   "execution_count": null,
   "id": "b4b0b9a3",
   "metadata": {},
   "outputs": [],
   "source": [
    "year_rdd = year_rdd.repartition(4)"
   ]
  },
  {
   "cell_type": "code",
   "execution_count": null,
   "id": "071d7b8a",
   "metadata": {},
   "outputs": [],
   "source": [
    "year_rdd.getNumPartitions()"
   ]
  },
  {
   "cell_type": "markdown",
   "id": "62948249",
   "metadata": {},
   "source": [
    "### Decrease the number of partition"
   ]
  },
  {
   "cell_type": "code",
   "execution_count": null,
   "id": "7a92886f",
   "metadata": {},
   "outputs": [],
   "source": [
    "year_rdd.coalesce(3).getNumPartitions()"
   ]
  },
  {
   "cell_type": "markdown",
   "id": "37770064",
   "metadata": {},
   "source": [
    "### Write rdd to a text file"
   ]
  },
  {
   "cell_type": "code",
   "execution_count": null,
   "id": "d3b789ab",
   "metadata": {},
   "outputs": [],
   "source": [
    "year_rdd.saveAsTextFile(\"years.txt\")"
   ]
  },
  {
   "cell_type": "code",
   "execution_count": null,
   "id": "b70ee052",
   "metadata": {},
   "outputs": [],
   "source": [
    "rdd_repartition = rdd.repartition(4)"
   ]
  },
  {
   "cell_type": "code",
   "execution_count": null,
   "id": "e327c07f",
   "metadata": {},
   "outputs": [],
   "source": [
    "rdd_repartition.collect()"
   ]
  },
  {
   "cell_type": "code",
   "execution_count": null,
   "id": "393b3172",
   "metadata": {},
   "outputs": [],
   "source": [
    "file_rdd = sc.textFile(\"/Users/avinashs/PycharmProjects/introtoPython/spark/datasets/ebook.txt\", 4)"
   ]
  },
  {
   "cell_type": "code",
   "execution_count": null,
   "id": "e16771e5",
   "metadata": {},
   "outputs": [],
   "source": [
    "file_rdd.collect()"
   ]
  },
  {
   "cell_type": "code",
   "execution_count": null,
   "id": "ad36a258",
   "metadata": {},
   "outputs": [],
   "source": [
    "file_rdd.flatMap(lambda x: x.split(\" \")).map(lambda x : (x,1)).reduceByKey(lambda x,y: x+y).collect()"
   ]
  },
  {
   "cell_type": "code",
   "execution_count": null,
   "id": "eb9c2730",
   "metadata": {},
   "outputs": [],
   "source": [
    "filename = \"/Users/avinashs/PycharmProjects/introtoPython/spark/datasets/weather.csv\"\n",
    "file1_rdd = sc.textFile(filename)"
   ]
  },
  {
   "cell_type": "markdown",
   "id": "1d1eac7f",
   "metadata": {},
   "source": [
    "### take action"
   ]
  },
  {
   "cell_type": "code",
   "execution_count": null,
   "id": "be212ad8",
   "metadata": {},
   "outputs": [],
   "source": [
    "file1_rdd.take(5)"
   ]
  },
  {
   "cell_type": "code",
   "execution_count": null,
   "id": "1fff79f4",
   "metadata": {},
   "outputs": [],
   "source": [
    "file1_rdd.first()"
   ]
  },
  {
   "cell_type": "code",
   "execution_count": null,
   "id": "c732610a",
   "metadata": {},
   "outputs": [],
   "source": [
    "file1_rdd.map(lambda x: (x.split(\",\")[0], int(x.split(\",\")[-1]))).map(lambda x: (int(x[0].split(\"-\")[0]), x[1])).reduceByKey(lambda x, y: max(x,y)).sortByKey().collect()"
   ]
  },
  {
   "cell_type": "markdown",
   "id": "569cdffa",
   "metadata": {},
   "source": [
    "### Accumulators"
   ]
  },
  {
   "cell_type": "code",
   "execution_count": null,
   "id": "a0257590",
   "metadata": {},
   "outputs": [],
   "source": [
    "accum = sc.accumulator(0)"
   ]
  },
  {
   "cell_type": "code",
   "execution_count": null,
   "id": "188537e7",
   "metadata": {},
   "outputs": [],
   "source": [
    "file_rdd = sc.textFile(\"/Users/avinashs/PycharmProjects/introtoPython/spark/datasets/ebook.txt\")"
   ]
  },
  {
   "cell_type": "code",
   "execution_count": null,
   "id": "426e6f0d",
   "metadata": {},
   "outputs": [],
   "source": [
    "file_rdd.getNumPartitions()"
   ]
  },
  {
   "cell_type": "code",
   "execution_count": null,
   "id": "e75ba140",
   "metadata": {},
   "outputs": [],
   "source": [
    "def count_blank_lines_in_partition(iterator):\n",
    "    count_blank_lines = 0\n",
    "    for row in iterator:\n",
    "        if len(row.strip()) == 0:\n",
    "            count_blank_lines += 1\n",
    "\n",
    "    accum.add(count_blank_lines)"
   ]
  },
  {
   "cell_type": "code",
   "execution_count": null,
   "id": "4cd7d786",
   "metadata": {},
   "outputs": [],
   "source": [
    "file_rdd.foreachPartition(count_blank_lines_in_partition)"
   ]
  },
  {
   "cell_type": "code",
   "execution_count": null,
   "id": "f4edd1af",
   "metadata": {},
   "outputs": [],
   "source": [
    "accum.value"
   ]
  },
  {
   "cell_type": "markdown",
   "id": "5724cd30",
   "metadata": {},
   "source": [
    "### read json file in python"
   ]
  },
  {
   "cell_type": "code",
   "execution_count": null,
   "id": "1cc6c5ee",
   "metadata": {},
   "outputs": [],
   "source": [
    "import json\n",
    "from pprint import pprint\n",
    "\n",
    "filename = \"/Users/avinashs/PycharmProjects/introtoPython/spark/datasets/people.json\"\n",
    "texts = []\n",
    "for line in open(filename, 'r'):\n",
    "    texts.append(json.loads(line))"
   ]
  },
  {
   "cell_type": "code",
   "execution_count": null,
   "id": "7e7191b9",
   "metadata": {},
   "outputs": [],
   "source": [
    "json_rdd = sc.textFile(filename)"
   ]
  },
  {
   "cell_type": "code",
   "execution_count": null,
   "id": "d0d8680e",
   "metadata": {},
   "outputs": [],
   "source": [
    "def convert_to_csv(record):\n",
    "    return tuple(json.loads(record).values())"
   ]
  },
  {
   "cell_type": "code",
   "execution_count": null,
   "id": "6814a3d2",
   "metadata": {},
   "outputs": [],
   "source": [
    "json_rdd.map(convert_to_csv).saveAsTextFile(\"json_csv\")"
   ]
  },
  {
   "cell_type": "markdown",
   "id": "44bbce13",
   "metadata": {},
   "source": [
    "### Store the rdd in memory or in disk"
   ]
  },
  {
   "cell_type": "code",
   "execution_count": null,
   "id": "f54be521",
   "metadata": {},
   "outputs": [],
   "source": [
    "rdd = sc.textFile(\"/Users/avinashs/PycharmProjects/introtoPython/spark/datasets/Baby_Names__Beginning_2007.csv\")"
   ]
  },
  {
   "cell_type": "code",
   "execution_count": null,
   "id": "c18043b6",
   "metadata": {},
   "outputs": [],
   "source": [
    "rdd.take(5)"
   ]
  },
  {
   "cell_type": "code",
   "execution_count": null,
   "id": "20327eb2",
   "metadata": {},
   "outputs": [],
   "source": [
    "first_rdd = rdd.map(lambda x : (x.split(\",\")[0], x.split(\",\")[1]))"
   ]
  },
  {
   "cell_type": "code",
   "execution_count": null,
   "id": "b2f0ce4d",
   "metadata": {},
   "outputs": [],
   "source": [
    "second_rdd = rdd.map(lambda x: (x.split(\",\")[1], x.split(\",\")[-2]))"
   ]
  },
  {
   "cell_type": "code",
   "execution_count": null,
   "id": "500b6c0d",
   "metadata": {},
   "outputs": [],
   "source": [
    "rdd.persist()"
   ]
  },
  {
   "cell_type": "code",
   "execution_count": null,
   "id": "07dbe9f7",
   "metadata": {},
   "outputs": [],
   "source": [
    "first_rdd.collect()"
   ]
  },
  {
   "cell_type": "code",
   "execution_count": null,
   "id": "a4ead1ef",
   "metadata": {},
   "outputs": [],
   "source": [
    "second_rdd.collect()"
   ]
  },
  {
   "cell_type": "code",
   "execution_count": null,
   "id": "6e088de3",
   "metadata": {},
   "outputs": [],
   "source": [
    "rdd = rdd.unpersist()"
   ]
  },
  {
   "cell_type": "code",
   "execution_count": null,
   "id": "905221c6",
   "metadata": {},
   "outputs": [],
   "source": [
    "rdd = rdd.unpersist(blocking=False)"
   ]
  },
  {
   "cell_type": "code",
   "execution_count": null,
   "id": "2e24ba76",
   "metadata": {},
   "outputs": [],
   "source": [
    "rdd.collect()"
   ]
  },
  {
   "cell_type": "code",
   "execution_count": null,
   "id": "bbbf9d54",
   "metadata": {},
   "outputs": [],
   "source": [
    "help(rdd.cache)"
   ]
  },
  {
   "cell_type": "code",
   "execution_count": null,
   "id": "78c44963",
   "metadata": {},
   "outputs": [],
   "source": [
    "help(rdd.persist)"
   ]
  },
  {
   "cell_type": "code",
   "execution_count": null,
   "id": "10c96ea6",
   "metadata": {},
   "outputs": [],
   "source": [
    "rdd.is_cached"
   ]
  },
  {
   "cell_type": "code",
   "execution_count": null,
   "id": "3b9b9bf8",
   "metadata": {},
   "outputs": [],
   "source": [
    "rdd.unpersist()"
   ]
  },
  {
   "cell_type": "markdown",
   "id": "6ab930f9",
   "metadata": {},
   "source": [
    "### To see all the spark configuration variables"
   ]
  },
  {
   "cell_type": "code",
   "execution_count": null,
   "id": "32bfa0ca",
   "metadata": {},
   "outputs": [],
   "source": [
    "sc._conf.getAll()"
   ]
  },
  {
   "cell_type": "markdown",
   "id": "dfb2ab5b",
   "metadata": {},
   "source": [
    "### foreachPartition action"
   ]
  },
  {
   "cell_type": "code",
   "execution_count": null,
   "id": "827ec98d",
   "metadata": {},
   "outputs": [],
   "source": [
    "rdd.foreachPartition(print)"
   ]
  },
  {
   "cell_type": "markdown",
   "id": "2b55b742",
   "metadata": {},
   "source": [
    "### stop the sparksession"
   ]
  },
  {
   "cell_type": "code",
   "execution_count": null,
   "id": "75777baf",
   "metadata": {},
   "outputs": [],
   "source": [
    "spark.stop()"
   ]
  }
 ],
 "metadata": {
  "kernelspec": {
   "display_name": "Python 3 (ipykernel)",
   "language": "python",
   "name": "python3"
  },
  "language_info": {
   "codemirror_mode": {
    "name": "ipython",
    "version": 3
   },
   "file_extension": ".py",
   "mimetype": "text/x-python",
   "name": "python",
   "nbconvert_exporter": "python",
   "pygments_lexer": "ipython3",
   "version": "3.9.7"
  }
 },
 "nbformat": 4,
 "nbformat_minor": 5
}
