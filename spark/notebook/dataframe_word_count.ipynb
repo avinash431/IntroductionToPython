{
 "cells": [
  {
   "cell_type": "code",
   "execution_count": 24,
   "id": "54302c93",
   "metadata": {},
   "outputs": [],
   "source": [
    "sentences = [[\"this is a sentence in line1 with each word count is exactly once\"]]"
   ]
  },
  {
   "cell_type": "code",
   "execution_count": 10,
   "id": "6373785d",
   "metadata": {},
   "outputs": [],
   "source": [
    "from pyspark.sql import SparkSession\n",
    "spark = SparkSession\\\n",
    "   .builder\\\n",
    "   .getOrCreate()"
   ]
  },
  {
   "cell_type": "code",
   "execution_count": 25,
   "id": "8202fb43",
   "metadata": {},
   "outputs": [],
   "source": [
    "df = spark.createDataFrame(sentences).toDF(\"text_column\")"
   ]
  },
  {
   "cell_type": "code",
   "execution_count": 26,
   "id": "655c0f37",
   "metadata": {},
   "outputs": [
    {
     "name": "stdout",
     "output_type": "stream",
     "text": [
      "+----------------------------------------------------------------+\n",
      "|text_column                                                     |\n",
      "+----------------------------------------------------------------+\n",
      "|this is a sentence in line1 with each word count is exactly once|\n",
      "+----------------------------------------------------------------+\n",
      "\n"
     ]
    }
   ],
   "source": [
    "df.show(truncate=False)"
   ]
  },
  {
   "cell_type": "code",
   "execution_count": 43,
   "id": "82aeeda5",
   "metadata": {},
   "outputs": [],
   "source": [
    "from pyspark.sql.functions import size, split, explode, lit"
   ]
  },
  {
   "cell_type": "code",
   "execution_count": 47,
   "id": "03665654",
   "metadata": {},
   "outputs": [],
   "source": [
    "df1 = df.select(split(\"text_column\", \" \").alias(\"words_column\"))"
   ]
  },
  {
   "cell_type": "code",
   "execution_count": 48,
   "id": "bbd047ff",
   "metadata": {},
   "outputs": [
    {
     "name": "stdout",
     "output_type": "stream",
     "text": [
      "+------------------+\n",
      "|size(words_column)|\n",
      "+------------------+\n",
      "|                13|\n",
      "+------------------+\n",
      "\n"
     ]
    }
   ],
   "source": [
    "df1.select(size(\"words_column\")).show()"
   ]
  },
  {
   "cell_type": "code",
   "execution_count": 54,
   "id": "03122492",
   "metadata": {},
   "outputs": [],
   "source": [
    "df2 = df1.select(explode(\"words_column\").alias(\"word\"))"
   ]
  },
  {
   "cell_type": "code",
   "execution_count": 55,
   "id": "b3013c31",
   "metadata": {},
   "outputs": [],
   "source": [
    "df3 = df2.withColumn(\"word_count\", lit(1))"
   ]
  },
  {
   "cell_type": "code",
   "execution_count": 56,
   "id": "16c674bd",
   "metadata": {},
   "outputs": [
    {
     "name": "stdout",
     "output_type": "stream",
     "text": [
      "+--------+----------+\n",
      "|    word|word_count|\n",
      "+--------+----------+\n",
      "|    this|         1|\n",
      "|      is|         1|\n",
      "|       a|         1|\n",
      "|sentence|         1|\n",
      "|      in|         1|\n",
      "|   line1|         1|\n",
      "|    with|         1|\n",
      "|    each|         1|\n",
      "|    word|         1|\n",
      "|   count|         1|\n",
      "|      is|         1|\n",
      "| exactly|         1|\n",
      "|    once|         1|\n",
      "+--------+----------+\n",
      "\n"
     ]
    }
   ],
   "source": [
    "df3.show()"
   ]
  },
  {
   "cell_type": "code",
   "execution_count": 60,
   "id": "50f3caab",
   "metadata": {},
   "outputs": [],
   "source": [
    "df4 = df3.groupBy(\"word\").agg({\"word_count\": \"sum\"})"
   ]
  },
  {
   "cell_type": "code",
   "execution_count": 62,
   "id": "4b0dadb6",
   "metadata": {},
   "outputs": [],
   "source": [
    "df4 = df4.withColumnRenamed(\"sum(word_count)\", \"final_word_count\")"
   ]
  },
  {
   "cell_type": "code",
   "execution_count": 63,
   "id": "6ae8019d",
   "metadata": {},
   "outputs": [
    {
     "name": "stdout",
     "output_type": "stream",
     "text": [
      "+--------+----------------+\n",
      "|    word|final_word_count|\n",
      "+--------+----------------+\n",
      "|   line1|               1|\n",
      "| exactly|               1|\n",
      "|      in|               1|\n",
      "|    with|               1|\n",
      "|   count|               1|\n",
      "|      is|               2|\n",
      "|    each|               1|\n",
      "|sentence|               1|\n",
      "|    word|               1|\n",
      "|    once|               1|\n",
      "|       a|               1|\n",
      "|    this|               1|\n",
      "+--------+----------------+\n",
      "\n"
     ]
    }
   ],
   "source": [
    "df4.show()"
   ]
  },
  {
   "cell_type": "code",
   "execution_count": 65,
   "id": "9e706b50",
   "metadata": {},
   "outputs": [],
   "source": [
    "from pyspark.sql.functions import create_map"
   ]
  },
  {
   "cell_type": "code",
   "execution_count": 67,
   "id": "e8a1ca08",
   "metadata": {},
   "outputs": [
    {
     "name": "stdout",
     "output_type": "stream",
     "text": [
      "+---------------------------+\n",
      "|map(word, final_word_count)|\n",
      "+---------------------------+\n",
      "|               [line1 -> 1]|\n",
      "|             [exactly -> 1]|\n",
      "|                  [in -> 1]|\n",
      "|                [with -> 1]|\n",
      "|               [count -> 1]|\n",
      "|                  [is -> 2]|\n",
      "|                [each -> 1]|\n",
      "|            [sentence -> 1]|\n",
      "|                [word -> 1]|\n",
      "|                [once -> 1]|\n",
      "|                   [a -> 1]|\n",
      "|                [this -> 1]|\n",
      "+---------------------------+\n",
      "\n"
     ]
    }
   ],
   "source": [
    "df4.select(create_map(\"word\", \"final_word_count\")).show()"
   ]
  }
 ],
 "metadata": {
  "kernelspec": {
   "display_name": "Python 3 (ipykernel)",
   "language": "python",
   "name": "python3"
  },
  "language_info": {
   "codemirror_mode": {
    "name": "ipython",
    "version": 3
   },
   "file_extension": ".py",
   "mimetype": "text/x-python",
   "name": "python",
   "nbconvert_exporter": "python",
   "pygments_lexer": "ipython3",
   "version": "3.9.7"
  }
 },
 "nbformat": 4,
 "nbformat_minor": 5
}
