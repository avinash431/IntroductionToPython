{
 "cells": [
  {
   "cell_type": "markdown",
   "id": "488daf90",
   "metadata": {},
   "source": [
    "## RDD Exercise"
   ]
  },
  {
   "cell_type": "markdown",
   "id": "41a48918",
   "metadata": {},
   "source": [
    "#### 1. Count the number of first names county wise"
   ]
  },
  {
   "cell_type": "markdown",
   "id": "06e45666",
   "metadata": {},
   "source": [
    "#### 2. Get all the first names in ascending order county wise"
   ]
  },
  {
   "cell_type": "markdown",
   "id": "a8d43fcb",
   "metadata": {},
   "source": [
    "### 3. convert people.json file to people.csv file using rdd"
   ]
  },
  {
   "cell_type": "markdown",
   "id": "bbd2e330",
   "metadata": {},
   "source": [
    "#### 4. sort years in descending order for weathers.csv file"
   ]
  },
  {
   "cell_type": "markdown",
   "id": "9f32ba92",
   "metadata": {},
   "source": [
    "#### 5. What are skipped stages and how to identify them"
   ]
  },
  {
   "cell_type": "code",
   "execution_count": null,
   "id": "a620c704",
   "metadata": {},
   "outputs": [],
   "source": []
  }
 ],
 "metadata": {
  "kernelspec": {
   "display_name": "Python 3 (ipykernel)",
   "language": "python",
   "name": "python3"
  },
  "language_info": {
   "codemirror_mode": {
    "name": "ipython",
    "version": 3
   },
   "file_extension": ".py",
   "mimetype": "text/x-python",
   "name": "python",
   "nbconvert_exporter": "python",
   "pygments_lexer": "ipython3",
   "version": "3.9.7"
  }
 },
 "nbformat": 4,
 "nbformat_minor": 5
}
