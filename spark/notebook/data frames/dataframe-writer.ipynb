{
 "cells": [
  {
   "cell_type": "code",
   "execution_count": 1,
   "id": "c27e813c",
   "metadata": {},
   "outputs": [
    {
     "name": "stderr",
     "output_type": "stream",
     "text": [
      "WARNING: An illegal reflective access operation has occurred\n",
      "WARNING: Illegal reflective access by org.apache.spark.unsafe.Platform (file:/Users/avinashs/Downloads/softwares/spark-3.0.0-bin-hadoop2.7/jars/spark-unsafe_2.12-3.0.0.jar) to constructor java.nio.DirectByteBuffer(long,int)\n",
      "WARNING: Please consider reporting this to the maintainers of org.apache.spark.unsafe.Platform\n",
      "WARNING: Use --illegal-access=warn to enable warnings of further illegal reflective access operations\n",
      "WARNING: All illegal access operations will be denied in a future release\n",
      "22/08/17 06:37:43 WARN NativeCodeLoader: Unable to load native-hadoop library for your platform... using builtin-java classes where applicable\n",
      "Using Spark's default log4j profile: org/apache/spark/log4j-defaults.properties\n",
      "Setting default log level to \"WARN\".\n",
      "To adjust logging level use sc.setLogLevel(newLevel). For SparkR, use setLogLevel(newLevel).\n",
      "22/08/17 06:37:44 WARN Utils: Service 'SparkUI' could not bind on port 4040. Attempting port 4041.\n"
     ]
    }
   ],
   "source": [
    "import findspark\n",
    "findspark.init()\n",
    "\n",
    "from pyspark.sql import SparkSession\n",
    "\n",
    "spark = SparkSession.builder.getOrCreate()"
   ]
  },
  {
   "cell_type": "code",
   "execution_count": 2,
   "id": "46ec03f1",
   "metadata": {},
   "outputs": [],
   "source": [
    "df = spark.createDataFrame(\n",
    "    [\n",
    "        (1, \"Peter Pan\", \"1999-04-23\", 90, 3),\n",
    "        (2, \"Alice Smith\", \"2000-05-15\", 100, 2),\n",
    "        (3, \"Bob Miller\", \"2000-09-01\", 80, 3),\n",
    "        (4, \"April May\", \"1999-09-30\", 110, 1),\n",
    "        (5, \"Billie Jean\", \"1990-07-12\", 360, None)\n",
    "    ],\n",
    "    [\"leftid\", \"name\", \"date-of-birth\", \"creditscore\", \"universityid\"]\n",
    ")"
   ]
  },
  {
   "cell_type": "code",
   "execution_count": 6,
   "id": "588fa081",
   "metadata": {},
   "outputs": [],
   "source": [
    "df.write.mode(\"overwrite\").format(\"csv\").option(\"path\",\"/Users/avinashs/Downloads/output\").save()"
   ]
  },
  {
   "cell_type": "code",
   "execution_count": 8,
   "id": "2461e463",
   "metadata": {},
   "outputs": [
    {
     "name": "stdout",
     "output_type": "stream",
     "text": [
      "root\n",
      " |-- leftid: long (nullable = true)\n",
      " |-- name: string (nullable = true)\n",
      " |-- date-of-birth: string (nullable = true)\n",
      " |-- creditscore: long (nullable = true)\n",
      " |-- universityid: long (nullable = true)\n",
      "\n"
     ]
    }
   ],
   "source": [
    "df.printSchema()"
   ]
  },
  {
   "cell_type": "code",
   "execution_count": 9,
   "id": "f814948b",
   "metadata": {},
   "outputs": [
    {
     "name": "stderr",
     "output_type": "stream",
     "text": [
      "                                                                                \r"
     ]
    }
   ],
   "source": [
    "df.write.partitionBy(\"date-of-birth\").format(\"parquet\").option(\"path\",\"/Users/avinashs/Downloads/output\").save()"
   ]
  },
  {
   "cell_type": "code",
   "execution_count": 11,
   "id": "121e4996",
   "metadata": {},
   "outputs": [],
   "source": [
    "df.write.partitionBy(\"date-of-birth\").format(\"parquet\").save(\"/Users/avinashs/Downloads/output\")"
   ]
  },
  {
   "cell_type": "code",
   "execution_count": 12,
   "id": "491fd867",
   "metadata": {},
   "outputs": [],
   "source": [
    "spark.stop()"
   ]
  }
 ],
 "metadata": {
  "kernelspec": {
   "display_name": "Python 3 (ipykernel)",
   "language": "python",
   "name": "python3"
  },
  "language_info": {
   "codemirror_mode": {
    "name": "ipython",
    "version": 3
   },
   "file_extension": ".py",
   "mimetype": "text/x-python",
   "name": "python",
   "nbconvert_exporter": "python",
   "pygments_lexer": "ipython3",
   "version": "3.9.7"
  }
 },
 "nbformat": 4,
 "nbformat_minor": 5
}
